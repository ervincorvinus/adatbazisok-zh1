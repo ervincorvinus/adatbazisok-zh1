{
    "metadata": {
        "kernelspec": {
            "name": "SQL",
            "display_name": "SQL",
            "language": "sql"
        },
        "language_info": {
            "name": "sql",
            "version": ""
        }
    },
    "nbformat_minor": 2,
    "nbformat": 4,
    "cells": [
        {
            "cell_type": "markdown",
            "source": [
                "Task 1"
            ],
            "metadata": {
                "azdata_cell_guid": "7ca2a413-de36-40c7-b242-bacd7e559b52"
            },
            "attachments": {}
        },
        {
            "cell_type": "code",
            "source": [
                "SELECT ROGZITETTE,SZALLAS_NEV,CIM FROM Szallashely \r\n",
                "WHERE MONTH(ROGZ_IDO) = 3 AND HELY LIKE 'Balaton%'\r\n",
                "ORDER BY CSILLAGOK_SZAMA ASC;"
            ],
            "metadata": {
                "language": "sql",
                "azdata_cell_guid": "6f9fa4be-82da-4f49-88cb-9b6dd1d4a173"
            },
            "outputs": [
                {
                    "output_type": "display_data",
                    "data": {
                        "text/html": "(7 rows affected)"
                    },
                    "metadata": {}
                },
                {
                    "output_type": "display_data",
                    "data": {
                        "text/html": "Total execution time: 00:00:00.010"
                    },
                    "metadata": {}
                },
                {
                    "output_type": "execute_result",
                    "metadata": {},
                    "execution_count": 74,
                    "data": {
                        "application/vnd.dataresource+json": {
                            "schema": {
                                "fields": [
                                    {
                                        "name": "ROGZITETTE"
                                    },
                                    {
                                        "name": "SZALLAS_NEV"
                                    },
                                    {
                                        "name": "CIM"
                                    }
                                ]
                            },
                            "data": [
                                {
                                    "ROGZITETTE": "Béla",
                                    "SZALLAS_NEV": "Családi Ház",
                                    "CIM": "8630 Balatonboglár, József Attila utca 25"
                                },
                                {
                                    "ROGZITETTE": "Mari",
                                    "SZALLAS_NEV": "Szieszta Apartmanház",
                                    "CIM": "8630 Balatonboglár, Dózsa György utca 108"
                                },
                                {
                                    "ROGZITETTE": "Béla",
                                    "SZALLAS_NEV": "Partiszél Vendégház",
                                    "CIM": "8220 Balatonalmádi Neptun u. 23."
                                },
                                {
                                    "ROGZITETTE": "Béla",
                                    "SZALLAS_NEV": "Tímárház Panzió",
                                    "CIM": "8600 Siófok, Virág utca 1"
                                },
                                {
                                    "ROGZITETTE": "Mari",
                                    "SZALLAS_NEV": "Jáde panzió",
                                    "CIM": "8624 Balatonföldvár, Kiss u.2."
                                },
                                {
                                    "ROGZITETTE": "Béla",
                                    "SZALLAS_NEV": "Kentaur Hotel",
                                    "CIM": "8600 Siófok (Széplak), Akácfa utca 1"
                                },
                                {
                                    "ROGZITETTE": "Béla",
                                    "SZALLAS_NEV": "Hotel Három Hattyú",
                                    "CIM": "8623 Balatonföldvár, Rákóczi Ferenc út 45."
                                }
                            ]
                        },
                        "text/html": [
                            "<table>",
                            "<tr><th>ROGZITETTE</th><th>SZALLAS_NEV</th><th>CIM</th></tr>",
                            "<tr><td>Béla</td><td>Családi Ház</td><td>8630 Balatonboglár, József Attila utca 25</td></tr>",
                            "<tr><td>Mari</td><td>Szieszta Apartmanház</td><td>8630 Balatonboglár, Dózsa György utca 108</td></tr>",
                            "<tr><td>Béla</td><td>Partiszél Vendégház</td><td>8220 Balatonalmádi Neptun u. 23.</td></tr>",
                            "<tr><td>Béla</td><td>Tímárház Panzió</td><td>8600 Siófok, Virág utca 1</td></tr>",
                            "<tr><td>Mari</td><td>Jáde panzió</td><td>8624 Balatonföldvár, Kiss u.2.</td></tr>",
                            "<tr><td>Béla</td><td>Kentaur Hotel</td><td>8600 Siófok (Széplak), Akácfa utca 1</td></tr>",
                            "<tr><td>Béla</td><td>Hotel Három Hattyú</td><td>8623 Balatonföldvár, Rákóczi Ferenc út 45.</td></tr>",
                            "</table>"
                        ]
                    }
                }
            ],
            "execution_count": 74
        },
        {
            "cell_type": "markdown",
            "source": [
                "Task 2"
            ],
            "metadata": {
                "azdata_cell_guid": "3221ebde-9383-41c8-862e-236c7ff62e9d"
            },
            "attachments": {}
        },
        {
            "cell_type": "code",
            "source": [
                "\r\n",
                "SELECT SZOBA_ID, COUNT(f.FOGLALAS_PK) as Count FROM Szoba s\r\n",
                "LEFT JOIN Foglalas f ON f.SZOBA_FK = s.SZOBA_ID\r\n",
                "WHERE f.FELNOTT_SZAM > f.GYERMEK_SZAM\r\n",
                "GROUP BY s.SZOBA_ID\r\n",
                "HAVING COUNT(f.FOGLALAS_PK) >= 2\r\n",
                "ORDER BY COUNT(f.FOGLALAS_PK) ASC;"
            ],
            "metadata": {
                "language": "sql",
                "azdata_cell_guid": "58802036-69f0-41a2-8917-79983261b0f1"
            },
            "outputs": [
                {
                    "output_type": "display_data",
                    "data": {
                        "text/html": "(165 rows affected)"
                    },
                    "metadata": {}
                },
                {
                    "output_type": "display_data",
                    "data": {
                        "text/html": "Total execution time: 00:00:00.011"
                    },
                    "metadata": {}
                },
                {
                    "output_type": "execute_result",
                    "metadata": {},
                    "execution_count": 75,
                    "data": {
                        "application/vnd.dataresource+json": {
                            "schema": {
                                "fields": [
                                    {
                                        "name": "SZOBA_ID"
                                    },
                                    {
                                        "name": "Count"
                                    }
                                ]
                            },
                            "data": [
                                {
                                    "SZOBA_ID": "2",
                                    "Count": "2"
                                },
                                {
                                    "SZOBA_ID": "5",
                                    "Count": "2"
                                },
                                {
                                    "SZOBA_ID": "17",
                                    "Count": "2"
                                },
                                {
                                    "SZOBA_ID": "22",
                                    "Count": "2"
                                },
                                {
                                    "SZOBA_ID": "30",
                                    "Count": "2"
                                },
                                {
                                    "SZOBA_ID": "37",
                                    "Count": "2"
                                },
                                {
                                    "SZOBA_ID": "47",
                                    "Count": "2"
                                },
                                {
                                    "SZOBA_ID": "71",
                                    "Count": "2"
                                },
                                {
                                    "SZOBA_ID": "72",
                                    "Count": "2"
                                },
                                {
                                    "SZOBA_ID": "75",
                                    "Count": "2"
                                },
                                {
                                    "SZOBA_ID": "76",
                                    "Count": "2"
                                },
                                {
                                    "SZOBA_ID": "67",
                                    "Count": "2"
                                },
                                {
                                    "SZOBA_ID": "69",
                                    "Count": "2"
                                },
                                {
                                    "SZOBA_ID": "85",
                                    "Count": "2"
                                },
                                {
                                    "SZOBA_ID": "91",
                                    "Count": "2"
                                },
                                {
                                    "SZOBA_ID": "100",
                                    "Count": "2"
                                },
                                {
                                    "SZOBA_ID": "109",
                                    "Count": "2"
                                },
                                {
                                    "SZOBA_ID": "113",
                                    "Count": "2"
                                },
                                {
                                    "SZOBA_ID": "118",
                                    "Count": "2"
                                },
                                {
                                    "SZOBA_ID": "120",
                                    "Count": "2"
                                },
                                {
                                    "SZOBA_ID": "136",
                                    "Count": "2"
                                },
                                {
                                    "SZOBA_ID": "137",
                                    "Count": "2"
                                },
                                {
                                    "SZOBA_ID": "144",
                                    "Count": "2"
                                },
                                {
                                    "SZOBA_ID": "145",
                                    "Count": "2"
                                },
                                {
                                    "SZOBA_ID": "151",
                                    "Count": "2"
                                },
                                {
                                    "SZOBA_ID": "156",
                                    "Count": "2"
                                },
                                {
                                    "SZOBA_ID": "157",
                                    "Count": "2"
                                },
                                {
                                    "SZOBA_ID": "160",
                                    "Count": "2"
                                },
                                {
                                    "SZOBA_ID": "162",
                                    "Count": "2"
                                },
                                {
                                    "SZOBA_ID": "167",
                                    "Count": "2"
                                },
                                {
                                    "SZOBA_ID": "176",
                                    "Count": "2"
                                },
                                {
                                    "SZOBA_ID": "179",
                                    "Count": "2"
                                },
                                {
                                    "SZOBA_ID": "188",
                                    "Count": "2"
                                },
                                {
                                    "SZOBA_ID": "193",
                                    "Count": "2"
                                },
                                {
                                    "SZOBA_ID": "196",
                                    "Count": "2"
                                },
                                {
                                    "SZOBA_ID": "191",
                                    "Count": "3"
                                },
                                {
                                    "SZOBA_ID": "183",
                                    "Count": "3"
                                },
                                {
                                    "SZOBA_ID": "173",
                                    "Count": "3"
                                },
                                {
                                    "SZOBA_ID": "166",
                                    "Count": "3"
                                },
                                {
                                    "SZOBA_ID": "175",
                                    "Count": "3"
                                },
                                {
                                    "SZOBA_ID": "169",
                                    "Count": "3"
                                },
                                {
                                    "SZOBA_ID": "170",
                                    "Count": "3"
                                },
                                {
                                    "SZOBA_ID": "161",
                                    "Count": "3"
                                },
                                {
                                    "SZOBA_ID": "158",
                                    "Count": "3"
                                },
                                {
                                    "SZOBA_ID": "152",
                                    "Count": "3"
                                },
                                {
                                    "SZOBA_ID": "154",
                                    "Count": "3"
                                },
                                {
                                    "SZOBA_ID": "155",
                                    "Count": "3"
                                },
                                {
                                    "SZOBA_ID": "146",
                                    "Count": "3"
                                },
                                {
                                    "SZOBA_ID": "135",
                                    "Count": "3"
                                },
                                {
                                    "SZOBA_ID": "122",
                                    "Count": "3"
                                },
                                {
                                    "SZOBA_ID": "129",
                                    "Count": "3"
                                },
                                {
                                    "SZOBA_ID": "104",
                                    "Count": "3"
                                },
                                {
                                    "SZOBA_ID": "90",
                                    "Count": "3"
                                },
                                {
                                    "SZOBA_ID": "66",
                                    "Count": "3"
                                },
                                {
                                    "SZOBA_ID": "84",
                                    "Count": "3"
                                },
                                {
                                    "SZOBA_ID": "93",
                                    "Count": "3"
                                },
                                {
                                    "SZOBA_ID": "95",
                                    "Count": "3"
                                },
                                {
                                    "SZOBA_ID": "81",
                                    "Count": "3"
                                },
                                {
                                    "SZOBA_ID": "77",
                                    "Count": "3"
                                },
                                {
                                    "SZOBA_ID": "78",
                                    "Count": "3"
                                },
                                {
                                    "SZOBA_ID": "50",
                                    "Count": "3"
                                },
                                {
                                    "SZOBA_ID": "51",
                                    "Count": "3"
                                },
                                {
                                    "SZOBA_ID": "46",
                                    "Count": "3"
                                },
                                {
                                    "SZOBA_ID": "55",
                                    "Count": "3"
                                },
                                {
                                    "SZOBA_ID": "57",
                                    "Count": "3"
                                },
                                {
                                    "SZOBA_ID": "62",
                                    "Count": "3"
                                },
                                {
                                    "SZOBA_ID": "63",
                                    "Count": "3"
                                },
                                {
                                    "SZOBA_ID": "29",
                                    "Count": "3"
                                },
                                {
                                    "SZOBA_ID": "40",
                                    "Count": "3"
                                },
                                {
                                    "SZOBA_ID": "33",
                                    "Count": "3"
                                },
                                {
                                    "SZOBA_ID": "34",
                                    "Count": "3"
                                },
                                {
                                    "SZOBA_ID": "23",
                                    "Count": "3"
                                },
                                {
                                    "SZOBA_ID": "24",
                                    "Count": "3"
                                },
                                {
                                    "SZOBA_ID": "18",
                                    "Count": "3"
                                },
                                {
                                    "SZOBA_ID": "14",
                                    "Count": "3"
                                },
                                {
                                    "SZOBA_ID": "3",
                                    "Count": "3"
                                },
                                {
                                    "SZOBA_ID": "9",
                                    "Count": "4"
                                },
                                {
                                    "SZOBA_ID": "10",
                                    "Count": "4"
                                },
                                {
                                    "SZOBA_ID": "11",
                                    "Count": "4"
                                },
                                {
                                    "SZOBA_ID": "15",
                                    "Count": "4"
                                },
                                {
                                    "SZOBA_ID": "19",
                                    "Count": "4"
                                },
                                {
                                    "SZOBA_ID": "36",
                                    "Count": "4"
                                },
                                {
                                    "SZOBA_ID": "39",
                                    "Count": "4"
                                },
                                {
                                    "SZOBA_ID": "13",
                                    "Count": "4"
                                },
                                {
                                    "SZOBA_ID": "59",
                                    "Count": "4"
                                },
                                {
                                    "SZOBA_ID": "61",
                                    "Count": "4"
                                },
                                {
                                    "SZOBA_ID": "54",
                                    "Count": "4"
                                },
                                {
                                    "SZOBA_ID": "45",
                                    "Count": "4"
                                },
                                {
                                    "SZOBA_ID": "43",
                                    "Count": "4"
                                },
                                {
                                    "SZOBA_ID": "79",
                                    "Count": "4"
                                },
                                {
                                    "SZOBA_ID": "73",
                                    "Count": "4"
                                },
                                {
                                    "SZOBA_ID": "86",
                                    "Count": "4"
                                },
                                {
                                    "SZOBA_ID": "98",
                                    "Count": "4"
                                },
                                {
                                    "SZOBA_ID": "99",
                                    "Count": "4"
                                },
                                {
                                    "SZOBA_ID": "106",
                                    "Count": "4"
                                },
                                {
                                    "SZOBA_ID": "107",
                                    "Count": "4"
                                },
                                {
                                    "SZOBA_ID": "124",
                                    "Count": "4"
                                },
                                {
                                    "SZOBA_ID": "126",
                                    "Count": "4"
                                },
                                {
                                    "SZOBA_ID": "119",
                                    "Count": "4"
                                },
                                {
                                    "SZOBA_ID": "112",
                                    "Count": "4"
                                },
                                {
                                    "SZOBA_ID": "117",
                                    "Count": "4"
                                },
                                {
                                    "SZOBA_ID": "141",
                                    "Count": "4"
                                },
                                {
                                    "SZOBA_ID": "131",
                                    "Count": "4"
                                },
                                {
                                    "SZOBA_ID": "132",
                                    "Count": "4"
                                },
                                {
                                    "SZOBA_ID": "133",
                                    "Count": "4"
                                },
                                {
                                    "SZOBA_ID": "134",
                                    "Count": "4"
                                },
                                {
                                    "SZOBA_ID": "153",
                                    "Count": "4"
                                },
                                {
                                    "SZOBA_ID": "164",
                                    "Count": "4"
                                },
                                {
                                    "SZOBA_ID": "174",
                                    "Count": "4"
                                },
                                {
                                    "SZOBA_ID": "184",
                                    "Count": "4"
                                },
                                {
                                    "SZOBA_ID": "190",
                                    "Count": "5"
                                },
                                {
                                    "SZOBA_ID": "195",
                                    "Count": "5"
                                },
                                {
                                    "SZOBA_ID": "181",
                                    "Count": "5"
                                },
                                {
                                    "SZOBA_ID": "165",
                                    "Count": "5"
                                },
                                {
                                    "SZOBA_ID": "163",
                                    "Count": "5"
                                },
                                {
                                    "SZOBA_ID": "171",
                                    "Count": "5"
                                },
                                {
                                    "SZOBA_ID": "138",
                                    "Count": "5"
                                },
                                {
                                    "SZOBA_ID": "143",
                                    "Count": "5"
                                },
                                {
                                    "SZOBA_ID": "140",
                                    "Count": "5"
                                },
                                {
                                    "SZOBA_ID": "148",
                                    "Count": "5"
                                },
                                {
                                    "SZOBA_ID": "149",
                                    "Count": "5"
                                },
                                {
                                    "SZOBA_ID": "115",
                                    "Count": "5"
                                },
                                {
                                    "SZOBA_ID": "110",
                                    "Count": "5"
                                },
                                {
                                    "SZOBA_ID": "127",
                                    "Count": "5"
                                },
                                {
                                    "SZOBA_ID": "130",
                                    "Count": "5"
                                },
                                {
                                    "SZOBA_ID": "123",
                                    "Count": "5"
                                },
                                {
                                    "SZOBA_ID": "121",
                                    "Count": "5"
                                },
                                {
                                    "SZOBA_ID": "97",
                                    "Count": "5"
                                },
                                {
                                    "SZOBA_ID": "92",
                                    "Count": "5"
                                },
                                {
                                    "SZOBA_ID": "87",
                                    "Count": "5"
                                },
                                {
                                    "SZOBA_ID": "88",
                                    "Count": "5"
                                },
                                {
                                    "SZOBA_ID": "82",
                                    "Count": "5"
                                },
                                {
                                    "SZOBA_ID": "83",
                                    "Count": "5"
                                },
                                {
                                    "SZOBA_ID": "80",
                                    "Count": "5"
                                },
                                {
                                    "SZOBA_ID": "52",
                                    "Count": "5"
                                },
                                {
                                    "SZOBA_ID": "49",
                                    "Count": "5"
                                },
                                {
                                    "SZOBA_ID": "64",
                                    "Count": "5"
                                },
                                {
                                    "SZOBA_ID": "38",
                                    "Count": "5"
                                },
                                {
                                    "SZOBA_ID": "42",
                                    "Count": "5"
                                },
                                {
                                    "SZOBA_ID": "27",
                                    "Count": "5"
                                },
                                {
                                    "SZOBA_ID": "28",
                                    "Count": "5"
                                },
                                {
                                    "SZOBA_ID": "20",
                                    "Count": "5"
                                },
                                {
                                    "SZOBA_ID": "8",
                                    "Count": "5"
                                },
                                {
                                    "SZOBA_ID": "4",
                                    "Count": "5"
                                },
                                {
                                    "SZOBA_ID": "6",
                                    "Count": "5"
                                },
                                {
                                    "SZOBA_ID": "7",
                                    "Count": "6"
                                },
                                {
                                    "SZOBA_ID": "35",
                                    "Count": "6"
                                },
                                {
                                    "SZOBA_ID": "48",
                                    "Count": "6"
                                },
                                {
                                    "SZOBA_ID": "44",
                                    "Count": "6"
                                },
                                {
                                    "SZOBA_ID": "96",
                                    "Count": "6"
                                },
                                {
                                    "SZOBA_ID": "94",
                                    "Count": "6"
                                },
                                {
                                    "SZOBA_ID": "150",
                                    "Count": "6"
                                },
                                {
                                    "SZOBA_ID": "139",
                                    "Count": "6"
                                },
                                {
                                    "SZOBA_ID": "172",
                                    "Count": "6"
                                },
                                {
                                    "SZOBA_ID": "187",
                                    "Count": "6"
                                },
                                {
                                    "SZOBA_ID": "197",
                                    "Count": "6"
                                },
                                {
                                    "SZOBA_ID": "198",
                                    "Count": "7"
                                },
                                {
                                    "SZOBA_ID": "12",
                                    "Count": "7"
                                },
                                {
                                    "SZOBA_ID": "1",
                                    "Count": "7"
                                },
                                {
                                    "SZOBA_ID": "58",
                                    "Count": "8"
                                },
                                {
                                    "SZOBA_ID": "74",
                                    "Count": "8"
                                },
                                {
                                    "SZOBA_ID": "70",
                                    "Count": "8"
                                },
                                {
                                    "SZOBA_ID": "89",
                                    "Count": "8"
                                },
                                {
                                    "SZOBA_ID": "185",
                                    "Count": "10"
                                },
                                {
                                    "SZOBA_ID": "182",
                                    "Count": "11"
                                }
                            ]
                        },
                        "text/html": [
                            "<table>",
                            "<tr><th>SZOBA_ID</th><th>Count</th></tr>",
                            "<tr><td>2</td><td>2</td></tr>",
                            "<tr><td>5</td><td>2</td></tr>",
                            "<tr><td>17</td><td>2</td></tr>",
                            "<tr><td>22</td><td>2</td></tr>",
                            "<tr><td>30</td><td>2</td></tr>",
                            "<tr><td>37</td><td>2</td></tr>",
                            "<tr><td>47</td><td>2</td></tr>",
                            "<tr><td>71</td><td>2</td></tr>",
                            "<tr><td>72</td><td>2</td></tr>",
                            "<tr><td>75</td><td>2</td></tr>",
                            "<tr><td>76</td><td>2</td></tr>",
                            "<tr><td>67</td><td>2</td></tr>",
                            "<tr><td>69</td><td>2</td></tr>",
                            "<tr><td>85</td><td>2</td></tr>",
                            "<tr><td>91</td><td>2</td></tr>",
                            "<tr><td>100</td><td>2</td></tr>",
                            "<tr><td>109</td><td>2</td></tr>",
                            "<tr><td>113</td><td>2</td></tr>",
                            "<tr><td>118</td><td>2</td></tr>",
                            "<tr><td>120</td><td>2</td></tr>",
                            "<tr><td>136</td><td>2</td></tr>",
                            "<tr><td>137</td><td>2</td></tr>",
                            "<tr><td>144</td><td>2</td></tr>",
                            "<tr><td>145</td><td>2</td></tr>",
                            "<tr><td>151</td><td>2</td></tr>",
                            "<tr><td>156</td><td>2</td></tr>",
                            "<tr><td>157</td><td>2</td></tr>",
                            "<tr><td>160</td><td>2</td></tr>",
                            "<tr><td>162</td><td>2</td></tr>",
                            "<tr><td>167</td><td>2</td></tr>",
                            "<tr><td>176</td><td>2</td></tr>",
                            "<tr><td>179</td><td>2</td></tr>",
                            "<tr><td>188</td><td>2</td></tr>",
                            "<tr><td>193</td><td>2</td></tr>",
                            "<tr><td>196</td><td>2</td></tr>",
                            "<tr><td>191</td><td>3</td></tr>",
                            "<tr><td>183</td><td>3</td></tr>",
                            "<tr><td>173</td><td>3</td></tr>",
                            "<tr><td>166</td><td>3</td></tr>",
                            "<tr><td>175</td><td>3</td></tr>",
                            "<tr><td>169</td><td>3</td></tr>",
                            "<tr><td>170</td><td>3</td></tr>",
                            "<tr><td>161</td><td>3</td></tr>",
                            "<tr><td>158</td><td>3</td></tr>",
                            "<tr><td>152</td><td>3</td></tr>",
                            "<tr><td>154</td><td>3</td></tr>",
                            "<tr><td>155</td><td>3</td></tr>",
                            "<tr><td>146</td><td>3</td></tr>",
                            "<tr><td>135</td><td>3</td></tr>",
                            "<tr><td>122</td><td>3</td></tr>",
                            "<tr><td>129</td><td>3</td></tr>",
                            "<tr><td>104</td><td>3</td></tr>",
                            "<tr><td>90</td><td>3</td></tr>",
                            "<tr><td>66</td><td>3</td></tr>",
                            "<tr><td>84</td><td>3</td></tr>",
                            "<tr><td>93</td><td>3</td></tr>",
                            "<tr><td>95</td><td>3</td></tr>",
                            "<tr><td>81</td><td>3</td></tr>",
                            "<tr><td>77</td><td>3</td></tr>",
                            "<tr><td>78</td><td>3</td></tr>",
                            "<tr><td>50</td><td>3</td></tr>",
                            "<tr><td>51</td><td>3</td></tr>",
                            "<tr><td>46</td><td>3</td></tr>",
                            "<tr><td>55</td><td>3</td></tr>",
                            "<tr><td>57</td><td>3</td></tr>",
                            "<tr><td>62</td><td>3</td></tr>",
                            "<tr><td>63</td><td>3</td></tr>",
                            "<tr><td>29</td><td>3</td></tr>",
                            "<tr><td>40</td><td>3</td></tr>",
                            "<tr><td>33</td><td>3</td></tr>",
                            "<tr><td>34</td><td>3</td></tr>",
                            "<tr><td>23</td><td>3</td></tr>",
                            "<tr><td>24</td><td>3</td></tr>",
                            "<tr><td>18</td><td>3</td></tr>",
                            "<tr><td>14</td><td>3</td></tr>",
                            "<tr><td>3</td><td>3</td></tr>",
                            "<tr><td>9</td><td>4</td></tr>",
                            "<tr><td>10</td><td>4</td></tr>",
                            "<tr><td>11</td><td>4</td></tr>",
                            "<tr><td>15</td><td>4</td></tr>",
                            "<tr><td>19</td><td>4</td></tr>",
                            "<tr><td>36</td><td>4</td></tr>",
                            "<tr><td>39</td><td>4</td></tr>",
                            "<tr><td>13</td><td>4</td></tr>",
                            "<tr><td>59</td><td>4</td></tr>",
                            "<tr><td>61</td><td>4</td></tr>",
                            "<tr><td>54</td><td>4</td></tr>",
                            "<tr><td>45</td><td>4</td></tr>",
                            "<tr><td>43</td><td>4</td></tr>",
                            "<tr><td>79</td><td>4</td></tr>",
                            "<tr><td>73</td><td>4</td></tr>",
                            "<tr><td>86</td><td>4</td></tr>",
                            "<tr><td>98</td><td>4</td></tr>",
                            "<tr><td>99</td><td>4</td></tr>",
                            "<tr><td>106</td><td>4</td></tr>",
                            "<tr><td>107</td><td>4</td></tr>",
                            "<tr><td>124</td><td>4</td></tr>",
                            "<tr><td>126</td><td>4</td></tr>",
                            "<tr><td>119</td><td>4</td></tr>",
                            "<tr><td>112</td><td>4</td></tr>",
                            "<tr><td>117</td><td>4</td></tr>",
                            "<tr><td>141</td><td>4</td></tr>",
                            "<tr><td>131</td><td>4</td></tr>",
                            "<tr><td>132</td><td>4</td></tr>",
                            "<tr><td>133</td><td>4</td></tr>",
                            "<tr><td>134</td><td>4</td></tr>",
                            "<tr><td>153</td><td>4</td></tr>",
                            "<tr><td>164</td><td>4</td></tr>",
                            "<tr><td>174</td><td>4</td></tr>",
                            "<tr><td>184</td><td>4</td></tr>",
                            "<tr><td>190</td><td>5</td></tr>",
                            "<tr><td>195</td><td>5</td></tr>",
                            "<tr><td>181</td><td>5</td></tr>",
                            "<tr><td>165</td><td>5</td></tr>",
                            "<tr><td>163</td><td>5</td></tr>",
                            "<tr><td>171</td><td>5</td></tr>",
                            "<tr><td>138</td><td>5</td></tr>",
                            "<tr><td>143</td><td>5</td></tr>",
                            "<tr><td>140</td><td>5</td></tr>",
                            "<tr><td>148</td><td>5</td></tr>",
                            "<tr><td>149</td><td>5</td></tr>",
                            "<tr><td>115</td><td>5</td></tr>",
                            "<tr><td>110</td><td>5</td></tr>",
                            "<tr><td>127</td><td>5</td></tr>",
                            "<tr><td>130</td><td>5</td></tr>",
                            "<tr><td>123</td><td>5</td></tr>",
                            "<tr><td>121</td><td>5</td></tr>",
                            "<tr><td>97</td><td>5</td></tr>",
                            "<tr><td>92</td><td>5</td></tr>",
                            "<tr><td>87</td><td>5</td></tr>",
                            "<tr><td>88</td><td>5</td></tr>",
                            "<tr><td>82</td><td>5</td></tr>",
                            "<tr><td>83</td><td>5</td></tr>",
                            "<tr><td>80</td><td>5</td></tr>",
                            "<tr><td>52</td><td>5</td></tr>",
                            "<tr><td>49</td><td>5</td></tr>",
                            "<tr><td>64</td><td>5</td></tr>",
                            "<tr><td>38</td><td>5</td></tr>",
                            "<tr><td>42</td><td>5</td></tr>",
                            "<tr><td>27</td><td>5</td></tr>",
                            "<tr><td>28</td><td>5</td></tr>",
                            "<tr><td>20</td><td>5</td></tr>",
                            "<tr><td>8</td><td>5</td></tr>",
                            "<tr><td>4</td><td>5</td></tr>",
                            "<tr><td>6</td><td>5</td></tr>",
                            "<tr><td>7</td><td>6</td></tr>",
                            "<tr><td>35</td><td>6</td></tr>",
                            "<tr><td>48</td><td>6</td></tr>",
                            "<tr><td>44</td><td>6</td></tr>",
                            "<tr><td>96</td><td>6</td></tr>",
                            "<tr><td>94</td><td>6</td></tr>",
                            "<tr><td>150</td><td>6</td></tr>",
                            "<tr><td>139</td><td>6</td></tr>",
                            "<tr><td>172</td><td>6</td></tr>",
                            "<tr><td>187</td><td>6</td></tr>",
                            "<tr><td>197</td><td>6</td></tr>",
                            "<tr><td>198</td><td>7</td></tr>",
                            "<tr><td>12</td><td>7</td></tr>",
                            "<tr><td>1</td><td>7</td></tr>",
                            "<tr><td>58</td><td>8</td></tr>",
                            "<tr><td>74</td><td>8</td></tr>",
                            "<tr><td>70</td><td>8</td></tr>",
                            "<tr><td>89</td><td>8</td></tr>",
                            "<tr><td>185</td><td>10</td></tr>",
                            "<tr><td>182</td><td>11</td></tr>",
                            "</table>"
                        ]
                    }
                }
            ],
            "execution_count": 75
        },
        {
            "cell_type": "markdown",
            "source": [
                "Task 3"
            ],
            "metadata": {
                "azdata_cell_guid": "9c93ba21-59d3-4e0b-9801-87b74fd2625f"
            },
            "attachments": {}
        },
        {
            "cell_type": "code",
            "source": [
                "\r\n",
                "SELECT \r\n",
                "    (SELECT SZALLAS_NEV FROM Szallashely WHERE SZALLAS_ID = sa.SZALLAS_ID) as SZALLAS_NEV,\r\n",
                "    COUNT(f.FOGLALAS_PK) as FOGLALAS_SZAM\r\n",
                "FROM Foglalas f\r\n",
                "RIGHT JOIN Szoba so ON f.SZOBA_FK = so.SZOBA_ID\r\n",
                "RIGHT JOIN Szallashely sa ON so.SZALLAS_FK = sa.SZALLAS_ID\r\n",
                "GROUP BY sa.SZALLAS_ID"
            ],
            "metadata": {
                "language": "sql",
                "azdata_cell_guid": "58d6327a-aacc-43cb-9986-3da90d356777"
            },
            "outputs": [
                {
                    "output_type": "display_data",
                    "data": {
                        "text/html": "Warning: Null value is eliminated by an aggregate or other SET operation."
                    },
                    "metadata": {}
                },
                {
                    "output_type": "display_data",
                    "data": {
                        "text/html": "(21 rows affected)"
                    },
                    "metadata": {}
                },
                {
                    "output_type": "display_data",
                    "data": {
                        "text/html": "Total execution time: 00:00:00.008"
                    },
                    "metadata": {}
                },
                {
                    "output_type": "execute_result",
                    "metadata": {},
                    "execution_count": 76,
                    "data": {
                        "application/vnd.dataresource+json": {
                            "schema": {
                                "fields": [
                                    {
                                        "name": "SZALLAS_NEV"
                                    },
                                    {
                                        "name": "FOGLALAS_SZAM"
                                    }
                                ]
                            },
                            "data": [
                                {
                                    "SZALLAS_NEV": "Sába-Ház",
                                    "FOGLALAS_SZAM": "70"
                                },
                                {
                                    "SZALLAS_NEV": "Családi Ház",
                                    "FOGLALAS_SZAM": "18"
                                },
                                {
                                    "SZALLAS_NEV": "Fortuna Apartman",
                                    "FOGLALAS_SZAM": "39"
                                },
                                {
                                    "SZALLAS_NEV": "Fortuna panzió",
                                    "FOGLALAS_SZAM": "73"
                                },
                                {
                                    "SZALLAS_NEV": "Fortuna Panzió",
                                    "FOGLALAS_SZAM": "53"
                                },
                                {
                                    "SZALLAS_NEV": "Kentaur Hotel",
                                    "FOGLALAS_SZAM": "179"
                                },
                                {
                                    "SZALLAS_NEV": "Szieszta Apartmanház",
                                    "FOGLALAS_SZAM": "34"
                                },
                                {
                                    "SZALLAS_NEV": "Hotel Három Hattyú",
                                    "FOGLALAS_SZAM": "204"
                                },
                                {
                                    "SZALLAS_NEV": "Jáde panzió",
                                    "FOGLALAS_SZAM": "29"
                                },
                                {
                                    "SZALLAS_NEV": "Lagúna Hotel",
                                    "FOGLALAS_SZAM": "123"
                                },
                                {
                                    "SZALLAS_NEV": "Partiszél Vendégház",
                                    "FOGLALAS_SZAM": "26"
                                },
                                {
                                    "SZALLAS_NEV": "Gold Hotel",
                                    "FOGLALAS_SZAM": "179"
                                },
                                {
                                    "SZALLAS_NEV": "Riviéra Panzió",
                                    "FOGLALAS_SZAM": "0"
                                },
                                {
                                    "SZALLAS_NEV": "Nyárfás Vendégház",
                                    "FOGLALAS_SZAM": "0"
                                },
                                {
                                    "SZALLAS_NEV": "Tímárház Panzió",
                                    "FOGLALAS_SZAM": "0"
                                },
                                {
                                    "SZALLAS_NEV": "Bagoly Hotel",
                                    "FOGLALAS_SZAM": "0"
                                },
                                {
                                    "SZALLAS_NEV": "Szarvas Hotel",
                                    "FOGLALAS_SZAM": "0"
                                },
                                {
                                    "SZALLAS_NEV": "Fortuna Apartman",
                                    "FOGLALAS_SZAM": "0"
                                },
                                {
                                    "SZALLAS_NEV": "Nyárfás Vendégház",
                                    "FOGLALAS_SZAM": "0"
                                },
                                {
                                    "SZALLAS_NEV": "Kollégium",
                                    "FOGLALAS_SZAM": "0"
                                },
                                {
                                    "SZALLAS_NEV": "Müller Vendégház",
                                    "FOGLALAS_SZAM": "0"
                                }
                            ]
                        },
                        "text/html": [
                            "<table>",
                            "<tr><th>SZALLAS_NEV</th><th>FOGLALAS_SZAM</th></tr>",
                            "<tr><td>Sába-Ház</td><td>70</td></tr>",
                            "<tr><td>Családi Ház</td><td>18</td></tr>",
                            "<tr><td>Fortuna Apartman</td><td>39</td></tr>",
                            "<tr><td>Fortuna panzió</td><td>73</td></tr>",
                            "<tr><td>Fortuna Panzió</td><td>53</td></tr>",
                            "<tr><td>Kentaur Hotel</td><td>179</td></tr>",
                            "<tr><td>Szieszta Apartmanház</td><td>34</td></tr>",
                            "<tr><td>Hotel Három Hattyú</td><td>204</td></tr>",
                            "<tr><td>Jáde panzió</td><td>29</td></tr>",
                            "<tr><td>Lagúna Hotel</td><td>123</td></tr>",
                            "<tr><td>Partiszél Vendégház</td><td>26</td></tr>",
                            "<tr><td>Gold Hotel</td><td>179</td></tr>",
                            "<tr><td>Riviéra Panzió</td><td>0</td></tr>",
                            "<tr><td>Nyárfás Vendégház</td><td>0</td></tr>",
                            "<tr><td>Tímárház Panzió</td><td>0</td></tr>",
                            "<tr><td>Bagoly Hotel</td><td>0</td></tr>",
                            "<tr><td>Szarvas Hotel</td><td>0</td></tr>",
                            "<tr><td>Fortuna Apartman</td><td>0</td></tr>",
                            "<tr><td>Nyárfás Vendégház</td><td>0</td></tr>",
                            "<tr><td>Kollégium</td><td>0</td></tr>",
                            "<tr><td>Müller Vendégház</td><td>0</td></tr>",
                            "</table>"
                        ]
                    }
                }
            ],
            "execution_count": 76
        }
    ]
}